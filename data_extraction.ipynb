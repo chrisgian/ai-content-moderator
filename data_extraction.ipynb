{
 "cells": [
  {
   "cell_type": "code",
   "execution_count": 1,
   "id": "9e41f17a",
   "metadata": {},
   "outputs": [
    {
     "data": {
      "text/plain": [
       "{'source': 'https://github.com/franciscorodriguez92/MeTwo/blob/master/MeTwo.csv',\n",
       " 'paper': 'https://ieeexplore.ieee.org/stamp/stamp.jsp?tp=&arnumber=9281090',\n",
       " 'notes': 'sexism'}"
      ]
     },
     "execution_count": 1,
     "metadata": {},
     "output_type": "execute_result"
    }
   ],
   "source": [
    "{\n",
    "    'source':'https://github.com/franciscorodriguez92/MeTwo/blob/master/MeTwo.csv',\n",
    "    'paper':'https://ieeexplore.ieee.org/stamp/stamp.jsp?tp=&arnumber=9281090',\n",
    "    'notes':'sexism'\n",
    "}"
   ]
  },
  {
   "cell_type": "code",
   "execution_count": null,
   "id": "7407b443",
   "metadata": {},
   "outputs": [],
   "source": []
  }
 ],
 "metadata": {
  "kernelspec": {
   "display_name": "Python 3",
   "language": "python",
   "name": "python3"
  },
  "language_info": {
   "codemirror_mode": {
    "name": "ipython",
    "version": 3
   },
   "file_extension": ".py",
   "mimetype": "text/x-python",
   "name": "python",
   "nbconvert_exporter": "python",
   "pygments_lexer": "ipython3",
   "version": "3.9.4"
  }
 },
 "nbformat": 4,
 "nbformat_minor": 5
}
