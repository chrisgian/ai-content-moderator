{
 "cells": [
  {
   "cell_type": "code",
   "execution_count": 35,
   "id": "1f713083",
   "metadata": {},
   "outputs": [
    {
     "name": "stderr",
     "output_type": "stream",
     "text": [
      "[nltk_data] Downloading package punkt to /home/jovyan/nltk_data...\n",
      "[nltk_data]   Package punkt is already up-to-date!\n",
      "[nltk_data] Downloading package stopwords to /home/jovyan/nltk_data...\n",
      "[nltk_data]   Package stopwords is already up-to-date!\n",
      "[nltk_data] Downloading package wordnet to /home/jovyan/nltk_data...\n",
      "[nltk_data]   Package wordnet is already up-to-date!\n"
     ]
    }
   ],
   "source": [
    "# import libraries\n",
    "import pandas as pd\n",
    "import numpy as np\n",
    "\n",
    "import sqlite3\n",
    "from sqlalchemy import create_engine\n",
    "import os\n",
    "\n",
    "import re\n",
    "import nltk\n",
    "import pickle\n",
    "\n",
    "nltk.download('punkt')\n",
    "nltk.download('stopwords')\n",
    "nltk.download('wordnet')\n",
    "\n",
    "from nltk.corpus import stopwords\n",
    "from nltk.tokenize import word_tokenize\n",
    "from nltk.stem.porter import PorterStemmer\n",
    "from nltk.stem.wordnet import WordNetLemmatizer\n",
    "\n",
    "from sklearn.pipeline import Pipeline,FeatureUnion\n",
    "from sklearn.feature_extraction.text import CountVectorizer, TfidfTransformer\n",
    "from sklearn.model_selection import train_test_split, GridSearchCV\n",
    "from sklearn.ensemble import RandomForestClassifier, AdaBoostClassifier\n",
    "from sklearn.multioutput import MultiOutputClassifier\n",
    "from sklearn.metrics import accuracy_score, precision_score, recall_score, f1_score, make_scorer, confusion_matrix, classification_report\n",
    "from sklearn.model_selection import RandomizedSearchCV\n",
    "from sklearn.svm import SVC\n",
    "from sklearn.base import BaseEstimator, TransformerMixin\n",
    "\n",
    "import warnings\n",
    "warnings.simplefilter('ignore')"
   ]
  },
  {
   "cell_type": "code",
   "execution_count": 2,
   "id": "50825ecc",
   "metadata": {},
   "outputs": [],
   "source": [
    "fp_clean_data = './data/final/clean_data_version_20210620_0200.csv'\n",
    "df_clean = pd.read_csv(fp_clean_data).rename(columns = {'label':'Y', 'text':'X'}).drop(columns = 'dataset')\n",
    "X = df_clean.X\n",
    "Y = df_clean.Y"
   ]
  },
  {
   "cell_type": "code",
   "execution_count": 3,
   "id": "9303c8f6",
   "metadata": {},
   "outputs": [],
   "source": [
    "def tokenize(text):\n",
    "    ''' Natural Language Processing: Normalize, Tokenize, Stem/Lemmatize\n",
    "    '''\n",
    "    \n",
    "    # Convert text to lowercase and remove punctuation\n",
    "    text = text.lower()\n",
    "    text = re.sub(r\"[^a-zA-Z0-9]\", \" \", text)\n",
    "    \n",
    "    # Tokenize words\n",
    "    tokens = word_tokenize(text)\n",
    "    \n",
    "    # Remove Stop words, Stem & Lemmed words\n",
    "    stop_word = stopwords.words(\"english\")\n",
    "    stemmer = PorterStemmer()\n",
    "    lemmatizer = WordNetLemmatizer()\n",
    "    \n",
    "    #stemmed = [stemmer.stem(w) for w in tokens if w not in stop_word]\n",
    "    lemmed = [lemmatizer.lemmatize(w) for w in tokens if w not in stop_word]\n",
    "    \n",
    "    return lemmed\n",
    "\n",
    "pipeline = Pipeline([\n",
    "    ('vect', CountVectorizer(tokenizer=tokenize)),\n",
    "    ('tfidf', TfidfTransformer()),\n",
    "    ('clf', RandomForestClassifier(n_jobs = -1))\n",
    "])"
   ]
  },
  {
   "cell_type": "code",
   "execution_count": 10,
   "id": "b89628e1",
   "metadata": {},
   "outputs": [],
   "source": [
    "X_train, X_test, Y_train, Y_test = train_test_split(X, Y, test_size=0.1, random_state = 0)\n",
    "\n",
    "# seed\n",
    "np.random.seed(0)\n",
    "pipeline.fit(X_train, Y_train)\n",
    "\n",
    "# predictions\n",
    "Y_train_pred = pipeline.predict(X_train)\n",
    "Y_test_pred = pipeline.predict(X_test)\n"
   ]
  },
  {
   "cell_type": "code",
   "execution_count": 19,
   "id": "10a9f85a",
   "metadata": {},
   "outputs": [
    {
     "data": {
      "text/plain": [
       "['memory', 'steps', 'verbose']"
      ]
     },
     "execution_count": 19,
     "metadata": {},
     "output_type": "execute_result"
    }
   ],
   "source": [
    "pipeline._get_param_names()"
   ]
  },
  {
   "cell_type": "code",
   "execution_count": null,
   "id": "4eed270a",
   "metadata": {
    "scrolled": false
   },
   "outputs": [
    {
     "name": "stdout",
     "output_type": "stream",
     "text": [
      "Fitting 5 folds for each of 10 candidates, totalling 50 fits\n",
      "[CV 1/5; 1/10] START clf__max_depth=4, clf__min_samples_leaf=2, clf__n_estimators=30, tfidf__use_idf=True, vect__min_df=10\n",
      "[CV 1/5; 1/10] END clf__max_depth=4, clf__min_samples_leaf=2, clf__n_estimators=30, tfidf__use_idf=True, vect__min_df=10;, score=0.000 total time=   1.4s\n",
      "[CV 2/5; 1/10] START clf__max_depth=4, clf__min_samples_leaf=2, clf__n_estimators=30, tfidf__use_idf=True, vect__min_df=10\n",
      "[CV 2/5; 1/10] END clf__max_depth=4, clf__min_samples_leaf=2, clf__n_estimators=30, tfidf__use_idf=True, vect__min_df=10;, score=0.013 total time=   1.4s\n",
      "[CV 3/5; 1/10] START clf__max_depth=4, clf__min_samples_leaf=2, clf__n_estimators=30, tfidf__use_idf=True, vect__min_df=10\n",
      "[CV 3/5; 1/10] END clf__max_depth=4, clf__min_samples_leaf=2, clf__n_estimators=30, tfidf__use_idf=True, vect__min_df=10;, score=0.013 total time=   1.4s\n",
      "[CV 4/5; 1/10] START clf__max_depth=4, clf__min_samples_leaf=2, clf__n_estimators=30, tfidf__use_idf=True, vect__min_df=10\n",
      "[CV 4/5; 1/10] END clf__max_depth=4, clf__min_samples_leaf=2, clf__n_estimators=30, tfidf__use_idf=True, vect__min_df=10;, score=0.000 total time=   1.4s\n",
      "[CV 5/5; 1/10] START clf__max_depth=4, clf__min_samples_leaf=2, clf__n_estimators=30, tfidf__use_idf=True, vect__min_df=10\n",
      "[CV 5/5; 1/10] END clf__max_depth=4, clf__min_samples_leaf=2, clf__n_estimators=30, tfidf__use_idf=True, vect__min_df=10;, score=0.000 total time=   1.4s\n",
      "[CV 1/5; 2/10] START clf__max_depth=2, clf__min_samples_leaf=2, clf__n_estimators=30, tfidf__use_idf=True, vect__min_df=5\n",
      "[CV 1/5; 2/10] END clf__max_depth=2, clf__min_samples_leaf=2, clf__n_estimators=30, tfidf__use_idf=True, vect__min_df=5;, score=0.000 total time=   1.4s\n",
      "[CV 2/5; 2/10] START clf__max_depth=2, clf__min_samples_leaf=2, clf__n_estimators=30, tfidf__use_idf=True, vect__min_df=5\n",
      "[CV 2/5; 2/10] END clf__max_depth=2, clf__min_samples_leaf=2, clf__n_estimators=30, tfidf__use_idf=True, vect__min_df=5;, score=0.000 total time=   1.3s\n",
      "[CV 3/5; 2/10] START clf__max_depth=2, clf__min_samples_leaf=2, clf__n_estimators=30, tfidf__use_idf=True, vect__min_df=5\n",
      "[CV 3/5; 2/10] END clf__max_depth=2, clf__min_samples_leaf=2, clf__n_estimators=30, tfidf__use_idf=True, vect__min_df=5;, score=0.000 total time=   1.4s\n",
      "[CV 4/5; 2/10] START clf__max_depth=2, clf__min_samples_leaf=2, clf__n_estimators=30, tfidf__use_idf=True, vect__min_df=5\n",
      "[CV 4/5; 2/10] END clf__max_depth=2, clf__min_samples_leaf=2, clf__n_estimators=30, tfidf__use_idf=True, vect__min_df=5;, score=0.000 total time=   1.3s\n",
      "[CV 5/5; 2/10] START clf__max_depth=2, clf__min_samples_leaf=2, clf__n_estimators=30, tfidf__use_idf=True, vect__min_df=5\n",
      "[CV 5/5; 2/10] END clf__max_depth=2, clf__min_samples_leaf=2, clf__n_estimators=30, tfidf__use_idf=True, vect__min_df=5;, score=0.000 total time=   1.4s\n",
      "[CV 1/5; 3/10] START clf__max_depth=4, clf__min_samples_leaf=2, clf__n_estimators=20, tfidf__use_idf=False, vect__min_df=5\n",
      "[CV 1/5; 3/10] END clf__max_depth=4, clf__min_samples_leaf=2, clf__n_estimators=20, tfidf__use_idf=False, vect__min_df=5;, score=0.000 total time=   1.3s\n",
      "[CV 2/5; 3/10] START clf__max_depth=4, clf__min_samples_leaf=2, clf__n_estimators=20, tfidf__use_idf=False, vect__min_df=5\n",
      "[CV 2/5; 3/10] END clf__max_depth=4, clf__min_samples_leaf=2, clf__n_estimators=20, tfidf__use_idf=False, vect__min_df=5;, score=0.000 total time=   1.3s\n",
      "[CV 3/5; 3/10] START clf__max_depth=4, clf__min_samples_leaf=2, clf__n_estimators=20, tfidf__use_idf=False, vect__min_df=5\n",
      "[CV 3/5; 3/10] END clf__max_depth=4, clf__min_samples_leaf=2, clf__n_estimators=20, tfidf__use_idf=False, vect__min_df=5;, score=0.000 total time=   1.3s\n",
      "[CV 4/5; 3/10] START clf__max_depth=4, clf__min_samples_leaf=2, clf__n_estimators=20, tfidf__use_idf=False, vect__min_df=5\n",
      "[CV 4/5; 3/10] END clf__max_depth=4, clf__min_samples_leaf=2, clf__n_estimators=20, tfidf__use_idf=False, vect__min_df=5;, score=0.000 total time=   1.4s\n",
      "[CV 5/5; 3/10] START clf__max_depth=4, clf__min_samples_leaf=2, clf__n_estimators=20, tfidf__use_idf=False, vect__min_df=5\n",
      "[CV 5/5; 3/10] END clf__max_depth=4, clf__min_samples_leaf=2, clf__n_estimators=20, tfidf__use_idf=False, vect__min_df=5;, score=0.000 total time=   1.4s\n",
      "[CV 1/5; 4/10] START clf__max_depth=4, clf__min_samples_leaf=2, clf__n_estimators=30, tfidf__use_idf=False, vect__min_df=5\n",
      "[CV 1/5; 4/10] END clf__max_depth=4, clf__min_samples_leaf=2, clf__n_estimators=30, tfidf__use_idf=False, vect__min_df=5;, score=0.000 total time=   1.3s\n",
      "[CV 2/5; 4/10] START clf__max_depth=4, clf__min_samples_leaf=2, clf__n_estimators=30, tfidf__use_idf=False, vect__min_df=5\n",
      "[CV 2/5; 4/10] END clf__max_depth=4, clf__min_samples_leaf=2, clf__n_estimators=30, tfidf__use_idf=False, vect__min_df=5;, score=0.000 total time=   1.4s\n",
      "[CV 3/5; 4/10] START clf__max_depth=4, clf__min_samples_leaf=2, clf__n_estimators=30, tfidf__use_idf=False, vect__min_df=5\n",
      "[CV 3/5; 4/10] END clf__max_depth=4, clf__min_samples_leaf=2, clf__n_estimators=30, tfidf__use_idf=False, vect__min_df=5;, score=0.000 total time=   1.4s\n",
      "[CV 4/5; 4/10] START clf__max_depth=4, clf__min_samples_leaf=2, clf__n_estimators=30, tfidf__use_idf=False, vect__min_df=5\n",
      "[CV 4/5; 4/10] END clf__max_depth=4, clf__min_samples_leaf=2, clf__n_estimators=30, tfidf__use_idf=False, vect__min_df=5;, score=0.000 total time=   1.4s\n",
      "[CV 5/5; 4/10] START clf__max_depth=4, clf__min_samples_leaf=2, clf__n_estimators=30, tfidf__use_idf=False, vect__min_df=5\n",
      "[CV 5/5; 4/10] END clf__max_depth=4, clf__min_samples_leaf=2, clf__n_estimators=30, tfidf__use_idf=False, vect__min_df=5;, score=0.000 total time=   1.4s\n",
      "[CV 1/5; 5/10] START clf__max_depth=4, clf__min_samples_leaf=2, clf__n_estimators=50, tfidf__use_idf=True, vect__min_df=5\n",
      "[CV 1/5; 5/10] END clf__max_depth=4, clf__min_samples_leaf=2, clf__n_estimators=50, tfidf__use_idf=True, vect__min_df=5;, score=0.000 total time=   1.4s\n",
      "[CV 2/5; 5/10] START clf__max_depth=4, clf__min_samples_leaf=2, clf__n_estimators=50, tfidf__use_idf=True, vect__min_df=5\n",
      "[CV 2/5; 5/10] END clf__max_depth=4, clf__min_samples_leaf=2, clf__n_estimators=50, tfidf__use_idf=True, vect__min_df=5;, score=0.000 total time=   1.4s\n",
      "[CV 3/5; 5/10] START clf__max_depth=4, clf__min_samples_leaf=2, clf__n_estimators=50, tfidf__use_idf=True, vect__min_df=5\n",
      "[CV 3/5; 5/10] END clf__max_depth=4, clf__min_samples_leaf=2, clf__n_estimators=50, tfidf__use_idf=True, vect__min_df=5;, score=0.000 total time=   1.4s\n",
      "[CV 4/5; 5/10] START clf__max_depth=4, clf__min_samples_leaf=2, clf__n_estimators=50, tfidf__use_idf=True, vect__min_df=5\n",
      "[CV 4/5; 5/10] END clf__max_depth=4, clf__min_samples_leaf=2, clf__n_estimators=50, tfidf__use_idf=True, vect__min_df=5;, score=0.000 total time=   1.4s\n",
      "[CV 5/5; 5/10] START clf__max_depth=4, clf__min_samples_leaf=2, clf__n_estimators=50, tfidf__use_idf=True, vect__min_df=5\n",
      "[CV 5/5; 5/10] END clf__max_depth=4, clf__min_samples_leaf=2, clf__n_estimators=50, tfidf__use_idf=True, vect__min_df=5;, score=0.000 total time=   1.4s\n",
      "[CV 1/5; 6/10] START clf__max_depth=4, clf__min_samples_leaf=4, clf__n_estimators=20, tfidf__use_idf=True, vect__min_df=10\n",
      "[CV 1/5; 6/10] END clf__max_depth=4, clf__min_samples_leaf=4, clf__n_estimators=20, tfidf__use_idf=True, vect__min_df=10;, score=0.013 total time=   1.4s\n",
      "[CV 2/5; 6/10] START clf__max_depth=4, clf__min_samples_leaf=4, clf__n_estimators=20, tfidf__use_idf=True, vect__min_df=10\n",
      "[CV 2/5; 6/10] END clf__max_depth=4, clf__min_samples_leaf=4, clf__n_estimators=20, tfidf__use_idf=True, vect__min_df=10;, score=0.026 total time=   1.3s\n",
      "[CV 3/5; 6/10] START clf__max_depth=4, clf__min_samples_leaf=4, clf__n_estimators=20, tfidf__use_idf=True, vect__min_df=10\n",
      "[CV 3/5; 6/10] END clf__max_depth=4, clf__min_samples_leaf=4, clf__n_estimators=20, tfidf__use_idf=True, vect__min_df=10;, score=0.000 total time=   1.4s\n",
      "[CV 4/5; 6/10] START clf__max_depth=4, clf__min_samples_leaf=4, clf__n_estimators=20, tfidf__use_idf=True, vect__min_df=10\n"
     ]
    }
   ],
   "source": [
    "\n",
    "\n",
    "parameters = {\n",
    "    'vect__min_df': [5,10],\n",
    "    'tfidf__use_idf':[True, False],\n",
    "    'clf__n_estimators': [20, 30, 50],\n",
    "    'clf__max_depth': [2, 4],\n",
    "    'clf__min_samples_leaf': [2, 4]\n",
    "             }\n",
    "\n",
    "scorer = make_scorer(performance_metric)\n",
    "cv = RandomizedSearchCV(pipeline, param_distributions=parameters, scoring = 'f1', verbose = 10)\n",
    "\n",
    "# Find best parameters\n",
    "np.random.seed(0)\n",
    "tuned_model = cv.fit(X_train, Y_train)\n"
   ]
  },
  {
   "cell_type": "code",
   "execution_count": 41,
   "id": "271532f4",
   "metadata": {},
   "outputs": [
    {
     "ename": "NameError",
     "evalue": "name 'estimator' is not defined",
     "output_type": "error",
     "traceback": [
      "\u001b[0;31m---------------------------------------------------------------------------\u001b[0m",
      "\u001b[0;31mNameError\u001b[0m                                 Traceback (most recent call last)",
      "\u001b[0;32m<ipython-input-41-162ad3ecc5c0>\u001b[0m in \u001b[0;36m<module>\u001b[0;34m\u001b[0m\n\u001b[0;32m----> 1\u001b[0;31m \u001b[0mestimator\u001b[0m\u001b[0;34m.\u001b[0m\u001b[0mget_params\u001b[0m\u001b[0;34m(\u001b[0m\u001b[0;34m)\u001b[0m\u001b[0;34m.\u001b[0m\u001b[0mkeys\u001b[0m\u001b[0;34m(\u001b[0m\u001b[0;34m)\u001b[0m\u001b[0;34m\u001b[0m\u001b[0;34m\u001b[0m\u001b[0m\n\u001b[0m",
      "\u001b[0;31mNameError\u001b[0m: name 'estimator' is not defined"
     ]
    }
   ],
   "source": [
    "estimator.get_params().keys()"
   ]
  },
  {
   "cell_type": "code",
   "execution_count": null,
   "id": "ece8b88b",
   "metadata": {},
   "outputs": [],
   "source": []
  }
 ],
 "metadata": {
  "kernelspec": {
   "display_name": "Python 3",
   "language": "python",
   "name": "python3"
  },
  "language_info": {
   "codemirror_mode": {
    "name": "ipython",
    "version": 3
   },
   "file_extension": ".py",
   "mimetype": "text/x-python",
   "name": "python",
   "nbconvert_exporter": "python",
   "pygments_lexer": "ipython3",
   "version": "3.9.4"
  }
 },
 "nbformat": 4,
 "nbformat_minor": 5
}
