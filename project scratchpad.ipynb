{
 "cells": [
  {
   "cell_type": "markdown",
   "id": "61aa9439",
   "metadata": {},
   "source": [
    "## Data Extraction Metadata\n",
    "\n",
    "Organize my data extraction a bit"
   ]
  },
  {
   "cell_type": "code",
   "execution_count": 55,
   "id": "9e41f17a",
   "metadata": {},
   "outputs": [],
   "source": [
    "extraction_meta = {\n",
    "        'sexism1':{\n",
    "            'processes_steps':{'csv':None,'twitterapi':None},\n",
    "            'url_data':'https://raw.githubusercontent.com/ZeerakW/hatespeech/master/NAACL_SRW_2016.csv',\n",
    "            'url_gh':'https://github.com/ZeerakW/hatespeech'\n",
    "            'paper':None,\n",
    "            'notes':'sexism'\n",
    "        }\n",
    "}"
   ]
  },
  {
   "cell_type": "markdown",
   "id": "96f6e2e6",
   "metadata": {},
   "source": [
    "## Build the Tweet Extractor\n",
    "- [tutorial: tweepy](https://medium.com/analytics-vidhya/fetch-tweets-using-their-ids-with-tweepy-twitter-api-and-python-ee7a22dcb845)"
   ]
  },
  {
   "cell_type": "code",
   "execution_count": null,
   "id": "0eab1f54",
   "metadata": {},
   "outputs": [],
   "source": []
  }
 ],
 "metadata": {
  "kernelspec": {
   "display_name": "Python 3",
   "language": "python",
   "name": "python3"
  },
  "language_info": {
   "codemirror_mode": {
    "name": "ipython",
    "version": 3
   },
   "file_extension": ".py",
   "mimetype": "text/x-python",
   "name": "python",
   "nbconvert_exporter": "python",
   "pygments_lexer": "ipython3",
   "version": "3.9.4"
  }
 },
 "nbformat": 4,
 "nbformat_minor": 5
}
