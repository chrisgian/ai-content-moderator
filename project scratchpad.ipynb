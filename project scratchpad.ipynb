{
 "cells": [
  {
   "cell_type": "markdown",
   "id": "4f3b98e0",
   "metadata": {},
   "source": [
    "## TODO: Data Extraction Metadata\n",
    "\n",
    "Organize my data extraction a bit"
   ]
  },
  {
   "cell_type": "code",
   "execution_count": 142,
   "id": "9e41f17a",
   "metadata": {},
   "outputs": [],
   "source": [
    "extraction_meta = {    \n",
    "    'sexism-1':{\n",
    "        'type':'twitter',\n",
    "        'url_data':'https://raw.githubusercontent.com/ZeerakW/hatespeech/master/NAACL_SRW_2016.csv',\n",
    "        'url_gh':'https://github.com/ZeerakW/hatespeech',\n",
    "        'paper':None},\n",
    "\n",
    "    'hate-1':{\n",
    "        'type':'flat',\n",
    "        'url_data':'https://raw.githubusercontent.com/sjtuprog/fox-news-comments/master/annotated-threads/all-comments.txt',\n",
    "        'url_gh':'https://github.com/sjtuprog/fox-news-comments',\n",
    "        'paper':'https://arxiv.org/pdf/1710.07395.pdf'},\n",
    "    \n",
    "    'hate-2':{\n",
    "        'type':'json',\n",
    "        'url_data':'https://raw.githubusercontent.com/marcoguerini/CONAN/master/CONAN/CONAN.json',\n",
    "        'parent_node':'conan',\n",
    "        'url_gh':None,\n",
    "        'paper':None}\n",
    "}"
   ]
  },
  {
   "cell_type": "markdown",
   "id": "c50eee8e",
   "metadata": {},
   "source": [
    "## TODO: Extraction Management"
   ]
  },
  {
   "cell_type": "code",
   "execution_count": 139,
   "id": "24c8fe9d",
   "metadata": {},
   "outputs": [
    {
     "name": "stderr",
     "output_type": "stream",
     "text": [
      "INFO:Extraction: -- dataset-id: sexism-1 -- type: twitter\n",
      "INFO:Extraction: -- dataset-id: hate-1 -- type: flat\n",
      "INFO:Extraction: -- dataset-id: hate-2 -- type: json\n",
      "INFO:Extraction:Filter Parent Node\n"
     ]
    }
   ],
   "source": [
    "import logging\n",
    "import pandas as pd\n",
    "from pandas.io.json import json_normalize #package for flattening json in pandas df\n",
    "\n",
    "# Set up the logger\n",
    "logging.basicConfig(level=logging.INFO)\n",
    "logger = logging.getLogger('Extraction')\n",
    "\n",
    "# keys are defined in json above\n",
    "for key in extraction_meta.keys():\n",
    "    # grab info from metadata\n",
    "    data_set_type = extraction_meta[key]['type']\n",
    "    url_data = extraction_meta[key]['url_data']\n",
    "    \n",
    "    logger.info(f\" -- dataset-id: {key} -- type: {data_set_type}\")\n",
    "    \n",
    "    # ----- JSON ----- #\n",
    "    if data_set_type == 'json':\n",
    "        # grab info from metadata\n",
    "        parent_node = url_data = extraction_meta[key]['parent_node']\n",
    "        \n",
    "        # request\n",
    "        payload = requests.get(extraction_meta[key]['url_data'])\n",
    "        content = payload.content\n",
    "        raw_json = json.loads(content)\n",
    "\n",
    "        if parent_node != None:\n",
    "            logger.info(f\"Filter Parent Node\")\n",
    "            raw_json = raw_json[parent_node]\n",
    "\n",
    "        extraction_meta[key]['df'] = pd.DataFrame(raw_json)\n",
    "        extraction_meta[key]['df'].to_csv(f\"./{key}-raw-data.csv\")\n",
    "            \n",
    "    elif data_set_type == 'flat':\n",
    "        extraction_meta[key]['df'] = pd.read_table(extraction_meta[key]['url_data'], header=None)\n",
    "        extraction_meta[key]['df'].to_csv(f\"./{key}-raw-data.csv\")\n",
    "    \n",
    "    elif data_set_type == 'twitter':\n",
    "        \"\"\"\n",
    "        will need to add more logic here to request twitter.\n",
    "        better idea to split this into two parts.\n",
    "        actual twitter extraction will be a big deal.\n",
    "        \"\"\"\n",
    "        extraction_meta[key]['df_twitter_id_labels'] = pd.read_table(extraction_meta[key]['url_data'], header=None)\n",
    "        extraction_meta[key]['df_twitter_id_labels'].to_csv(f\"./{key}-twitterindex.csv\")"
   ]
  },
  {
   "cell_type": "markdown",
   "id": "37e9e821",
   "metadata": {},
   "source": [
    "## Data Prep"
   ]
  },
  {
   "cell_type": "markdown",
   "id": "4d881311",
   "metadata": {},
   "source": [
    "## TODO: Build the Tweet Extractor\n",
    "- [tutorial: tweepy](https://medium.com/analytics-vidhya/fetch-tweets-using-their-ids-with-tweepy-twitter-api-and-python-ee7a22dcb845)"
   ]
  }
 ],
 "metadata": {
  "kernelspec": {
   "display_name": "Python 3",
   "language": "python",
   "name": "python3"
  },
  "language_info": {
   "codemirror_mode": {
    "name": "ipython",
    "version": 3
   },
   "file_extension": ".py",
   "mimetype": "text/x-python",
   "name": "python",
   "nbconvert_exporter": "python",
   "pygments_lexer": "ipython3",
   "version": "3.9.4"
  }
 },
 "nbformat": 4,
 "nbformat_minor": 5
}
